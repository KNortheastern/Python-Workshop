{
 "cells": [
  {
   "cell_type": "markdown",
   "metadata": {},
   "source": [
    "# Python Workshop (end of Week 4)\n",
    "This a \"Jupyter Notebook,\" a temporary IDE that you can code in during the workshop if you can't get Python to work on your computer. This particular workbook contains working code for everything we did in Week 4.\n",
    "\n",
    "> **WARNING**: Any coding you do in this notebook will not be saved, even if you press the save button! Please copy-paste your work into a text file on your computer to save it.\n",
    "\n",
    "The code block below reproduces the work you would have done to install the Python libraries we are using on your own computer. It has already been run, but you can always re-run it if need be by clicking on the block and then clicking the \"Run\" button in the toolbar above."
   ]
  },
  {
   "cell_type": "code",
   "execution_count": 1,
   "metadata": {
    "hide-cell": true,
    "hide_input": false
   },
   "outputs": [],
   "source": [
    "%%capture\n",
    "import sys\n",
    "!{sys.executable} -m pip install pandas\n",
    "!{sys.executable} -m pip install networkx\n",
    "!{sys.executable} -m pip install matplotlib\n",
    "!{sys.executable} -m pip install pyvis"
   ]
  },
  {
   "cell_type": "markdown",
   "metadata": {},
   "source": [
    "You can use the box below to type your code and run it by clicking on the \"Run\" button above."
   ]
  },
  {
   "cell_type": "code",
   "execution_count": 1,
   "metadata": {},
   "outputs": [],
   "source": [
    "# CSV nodes and edges\n",
    "# pandas\n",
    "import pandas as pd\n",
    "nodeCSV = pd.read_csv('nodes.csv', header=None)\n",
    "nodeCSVList = nodeCSV.stack().tolist() #https://stackoverflow.com/questions/57619507/how-to-convert-pandas-dataframe-to-single-list\n",
    "edgeCSV = pd.read_csv('edges.csv', header=None)\n",
    "edgeCSVList = [tuple(row) for row in edgeCSV.values] # https://thispointer.com/python-read-csv-into-a-list-of-lists-or-tuples-or-dictionaries-import-csv-to-list/\n",
    "\n",
    "# networkx\n",
    "import networkx as nx\n",
    "\n",
    "\n",
    "# pretty csv import and make network\n",
    "nodeCSVAdv = pd.read_csv('nodes_advanced.csv', index_col = 0)\n",
    "nodeCSVAdvList = nodeCSVAdv.to_dict('index') # https://pandas.pydata.org/pandas-docs/stable/reference/api/pandas.DataFrame.to_dict.html\n",
    "nodeCSVAdvList2 = list(nodeCSVAdvList.items()) # https://www.geeksforgeeks.org/python-convert-dictionary-to-list-of-tuples/\n",
    "# also possibly https://stackoverflow.com/questions/7002429/how-can-i-extract-all-values-from-a-dictionary-in-python\n",
    "# need (node, attrdict)tupples according to\n",
    "# https://networkx.org/documentation/stable/reference/classes/generated/networkx.DiGraph.add_nodes_from.html?highlight=add_nodes_from#networkx.DiGraph.add_nodes_from\n",
    "\n",
    "G = nx.DiGraph() # this is now directed...\n",
    "G.add_nodes_from(nodeCSVAdvList2)\n",
    "G.add_edges_from(edgeCSVList)\n",
    "pos = nx.circular_layout(G) # https://networkx.org/documentation/stable/reference/drawing.html#module-networkx.drawing.layout\n",
    "nx.draw_networkx_nodes(G, pos, # https://networkx.org/documentation/stable/reference/generated/networkx.drawing.nx_pylab.draw_networkx_nodes.html\n",
    "\tnode_color=nx.get_node_attributes(G, \"Goodness\").values())\n",
    "nx.draw_networkx_edges(G, pos, # https://networkx.org/documentation/stable/reference/generated/networkx.drawing.nx_pylab.draw_networkx_edges.html\n",
    "    connectionstyle=\"arc3,rad=0.2\"\n",
    ")\n",
    "nx.draw_networkx_labels(G, pos) # https://networkx.org/documentation/stable/reference/generated/networkx.drawing.nx_pylab.draw_networkx_labels.html#networkx.drawing.nx_pylab.draw_networkx_labels\n",
    "\n",
    "# pyvis\n",
    "# https://pyvis.readthedocs.io/en/latest/tutorial.html#networkx-integration\n",
    "from pyvis.network import Network\n",
    "nt = Network(\"500px\", \"500px\")\n",
    "nt.from_nx(G)\n",
    "# nt.show_buttons(filter_=['nodes'])\n",
    "# nt.show_buttons(filter_=['edges'])\n",
    "nt.set_options(\"\"\"\n",
    "var options = {\n",
    "  \"nodes\": {\n",
    "    \"color\": {\n",
    "      \"border\": \"rgba(233,81,212,1)\",\n",
    "      \"background\": \"rgba(252,207,179,1)\",\n",
    "      \"hover\": {\n",
    "        \"border\": \"rgba(233,136,164,1)\"\n",
    "      }\n",
    "    }\n",
    "  }\n",
    "}\n",
    "\"\"\")\n",
    "nt.show(\"nx.html\")"
   ]
  }
 ],
 "metadata": {
  "kernelspec": {
   "display_name": "Python 3",
   "language": "python",
   "name": "python3"
  },
  "language_info": {
   "codemirror_mode": {
    "name": "ipython",
    "version": 3
   },
   "file_extension": ".py",
   "mimetype": "text/x-python",
   "name": "python",
   "nbconvert_exporter": "python",
   "pygments_lexer": "ipython3",
   "version": "3.8.3"
  },
  "toc": {
   "base_numbering": 1,
   "nav_menu": {},
   "number_sections": false,
   "sideBar": true,
   "skip_h1_title": true,
   "title_cell": "Table of Contents",
   "title_sidebar": "Contents",
   "toc_cell": false,
   "toc_position": {},
   "toc_section_display": true,
   "toc_window_display": false
  }
 },
 "nbformat": 4,
 "nbformat_minor": 4
}
